{
 "cells": [
  {
   "cell_type": "markdown",
   "metadata": {},
   "source": [
    "# Interactive TROYA Terminal Interface\n",
    "\n",
    "This notebook demonstrates how to:\n",
    "- Connect to EXTRA terminal sessions\n",
    "- Read screen content\n",
    "- Send commands\n",
    "- Handle terminal interactions\n",
    "- View system diagnostics"
   ]
  },
  {
   "cell_type": "code",
   "execution_count": null,
   "metadata": {},
   "outputs": [],
   "source": [
    "import time\n",
    "import sys\n",
    "from py_troya_connect import ExtraTerminal, ExtraTerminalError\n",
    "\n",
    "# Check if EXTRA terminal is available\n",
    "available_types = ExtraTerminal.detect_terminal_type()\n",
    "\n",
    "if not available_types:\n",
    "    print(\"Error: EXTRA terminal emulation software not found!\")\n",
    "    sys.exit(1)\n",
    "else:\n",
    "    print(\"EXTRA terminal detected successfully!\")"
   ]
  },
  {
   "cell_type": "markdown",
   "metadata": {},
   "source": [
    "## Select Terminal Session\n",
    "\n",
    "First, let's select which terminal session to connect to:"
   ]
  },
  {
   "cell_type": "code",
   "execution_count": null,
   "metadata": {},
   "outputs": [],
   "source": [
    "# Interactive session selection\n",
    "session_choice = ExtraTerminal.select_session()\n",
    "print(f\"Selected session: {session_choice}\")"
   ]
  },
  {
   "cell_type": "markdown",
   "metadata": {},
   "source": [
    "## Connect to Terminal\n",
    "\n",
    "Now we'll establish the connection using a context manager:"
   ]
  },
  {
   "cell_type": "code",
   "execution_count": null,
   "metadata": {},
   "outputs": [],
   "source": [
    "terminal = ExtraTerminal(session_choice)\n",
    "terminal.connect()\n",
    "print(\"Connected to terminal successfully!\")"
   ]
  },
  {
   "cell_type": "markdown",
   "metadata": {},
   "source": [
    "## Terminal Operations\n",
    "\n",
    "Here are some common operations you can perform:"
   ]
  },
  {
   "cell_type": "code",
   "execution_count": null,
   "metadata": {},
   "outputs": [],
   "source": [
    "def show_screen_content():\n",
    "    \"\"\"Display current screen content\"\"\"\n",
    "    print(\"\\nCurrent Screen Content:\")\n",
    "    print(\"-\" * 80)\n",
    "    content = terminal.read_screen()\n",
    "    print(\"\\n\".join(content))\n",
    "    print(\"-\" * 80)\n",
    "\n",
    "def send_terminal_command(command):\n",
    "    \"\"\"Send command and show response\"\"\"\n",
    "    print(f\"\\nSending command: {command}\")\n",
    "    terminal.send_command(command)\n",
    "    time.sleep(1)  # Small delay for terminal response\n",
    "    show_screen_content()\n",
    "\n",
    "def show_system_status():\n",
    "    \"\"\"Display terminal system information\"\"\"\n",
    "    status = terminal.check_system_status()\n",
    "    print(\"\\nSystem Status:\")\n",
    "    print(\"-\" * 80)\n",
    "    for key, value in status.items():\n",
    "        print(f\"{key}: {value}\")\n",
    "    print(\"-\" * 80)"
   ]
  },
  {
   "cell_type": "markdown",
   "metadata": {},
   "source": [
    "### Read Screen Content\n",
    "Let's see what's currently on the terminal screen:"
   ]
  },
  {
   "cell_type": "code",
   "execution_count": null,
   "metadata": {},
   "outputs": [],
   "source": [
    "show_screen_content()"
   ]
  },
  {
   "cell_type": "markdown",
   "metadata": {},
   "source": [
    "### Send Commands\n",
    "Try sending some commands to the terminal:"
   ]
  },
  {
   "cell_type": "code",
   "execution_count": null,
   "metadata": {},
   "outputs": [],
   "source": [
    "# Example: Send CLEAR command\n",
    "send_terminal_command(\"CLEAR\")\n",
    "\n",
    "# You can try other commands here\n",
    "# send_terminal_command(\"YOUR_COMMAND\")"
   ]
  },
  {
   "cell_type": "markdown",
   "metadata": {},
   "source": [
    "### System Diagnostics\n",
    "Check the terminal system status:"
   ]
  },
  {
   "cell_type": "code",
   "execution_count": null,
   "metadata": {},
   "outputs": [],
   "source": [
    "show_system_status()"
   ]
  },
  {
   "cell_type": "markdown",
   "metadata": {},
   "source": [
    "## Cleanup\n",
    "\n",
    "Don't forget to disconnect when done:"
   ]
  },
  {
   "cell_type": "code",
   "execution_count": null,
   "metadata": {},
   "outputs": [],
   "source": [
    "terminal.disconnect()\n",
    "print(\"Disconnected from terminal\")"
   ]
  }
 ],
 "metadata": {
  "kernelspec": {
   "display_name": "Python 3",
   "language": "python",
   "name": "python3"
  },
  "language_info": {
   "codemirror_mode": {
    "name": "ipython",
    "version": 3
   },
   "file_extension": ".py",
   "mimetype": "text/x-python",
   "name": "python",
   "nbconvert_exporter": "python",
   "pygments_lexer": "ipython3",
   "version": "3.8.0"
  }
 },
 "nbformat": 4,
 "nbformat_minor": 4
}
